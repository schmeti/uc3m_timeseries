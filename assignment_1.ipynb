{
 "cells": [
  {
   "cell_type": "markdown",
   "metadata": {},
   "source": [
    "# Assignment 1: Time Series \n",
    "- Florencia Luque\n",
    "- Simon Schmetz"
   ]
  },
  {
   "cell_type": "code",
   "execution_count": null,
   "metadata": {},
   "outputs": [],
   "source": [
    "import pandas as pd\n",
    "import numpy as np  \n",
    "import matplotlib.pyplot as plt"
   ]
  },
  {
   "cell_type": "code",
   "execution_count": null,
   "metadata": {},
   "outputs": [],
   "source": [
    "# Load and preprocess data\n",
    "data_raw = pd.read_excel('data/INE_IPC.xlsx')\n",
    "\n",
    "data_raw.rename(columns={\n",
    "    'Unnamed: 0': 'time',\n",
    "    '    Índice general': 'general_index',\n",
    "    '    01 Alimentos y bebidas no alcohólicas': 'food_beverages',\n",
    "    '    02 Bebidas alcohólicas y tabaco': 'alc_tobacco',\n",
    "    '    03 Vestido y calzado': 'clothing_footwear',\n",
    "    '    04 Vivienda, agua, electricidad, gas y otros combustibles': 'housing_utilities',\n",
    "    '    05 Muebles, artículos del hogar y artículos para el mantenimiento corriente del hogar': 'furniture_household',\n",
    "    '    06 Sanidad': 'health',\n",
    "    '    07 Transporte': 'transport',\n",
    "    '    08 Comunicaciones': 'communications',\n",
    "    '    09 Ocio y cultura': 'leisure_culture',\n",
    "    '    10 Enseñanza': 'education',\n",
    "    '    11 Restaurantes y hoteles': 'restaurants_hotels',\n",
    "    '    12 Otros bienes y servicios': 'other_goods_services'\n",
    "}, inplace=True)\n",
    "\n",
    "data_raw['time'] = pd.to_datetime(data_raw['time'], format='%YM%m')\n",
    "data = data_raw.copy()"
   ]
  },
  {
   "cell_type": "code",
   "execution_count": null,
   "metadata": {},
   "outputs": [],
   "source": [
    "### Funcions\n",
    "\n",
    "# plot lineplot and histogram\n",
    "\n",
    "def plot_eda(data, feature, color='skyblue', transform_func=None):\n",
    "    plt.figure(figsize=(10, 7))\n",
    "\n",
    "    # Line plot of the feature over time\n",
    "    plt.subplot(2, 1, 1)\n",
    "    plt.plot(data['time'], data[feature], marker='.', color=color)\n",
    "    plt.xlabel('Time')\n",
    "    plt.ylabel(feature.replace('_', ' ').title())\n",
    "    plt.title(f'{feature.replace(\"_\", \" \").title()} Over Time')\n",
    "    plt.grid(True)\n",
    "\n",
    "    # Histogram of the feature\n",
    "    plt.subplot(2, 1, 2)\n",
    "    plt.hist(data[feature].dropna(), bins=30, edgecolor='k', color=color,density=True)\n",
    "\n",
    "    mean = data[feature].mean()\n",
    "    std = data[feature].std()\n",
    "    x = np.linspace(mean - 3*std, mean + 3*std, 100)\n",
    "    p = np.exp(-0.5 * ((x - mean) / std)**2) / (std * np.sqrt(2 * np.pi))\n",
    "\n",
    "    plt.plot(x, p, color='red', linewidth=2)\n",
    "    plt.xlabel(feature.replace('_', ' ').title())\n",
    "    plt.ylabel('Density')\n",
    "    plt.title(f'Historgam + Normal Distribution (sample mean/variance) of {feature.replace(\"_\", \" \").title()}')\n",
    "    plt.grid(True)\n",
    "    plt.show()\n",
    "\n",
    "\n",
    "# statistical tests\n",
    "from scipy.stats import jarque_bera\n",
    "from statsmodels.tsa.stattools import adfuller\n",
    "\n",
    "def stat_tests(data,feature):\n",
    "    print(\"Testing for Stationarity and Normality of Featzre:\", feature)\n",
    "\n",
    "\n",
    "    ### Perform Jarque-Bera test (normality test)\n",
    "    jb_stat, jb_p_value = jarque_bera(data[feature])\n",
    "\n",
    "    # Print the test statistic and p-value\n",
    "    print('\\nJarque-Bera Statistic:', jb_stat)\n",
    "    print('p-value:', jb_p_value)\n",
    "\n",
    "    ### Perform Dickey-Fuller test (Stationarity test)\n",
    "    result = adfuller(data[feature])\n",
    "\n",
    "    # Print the test statistic and p-value\n",
    "    print('\\nADF Statistic:', result[0])\n",
    "    print('p-value:', result[1])\n",
    "    \n",
    "    print(\"\\n\\n\")\n",
    "\n",
    "\n",
    "# plot Autocorrelations\n",
    "from statsmodels.graphics.tsaplots import plot_acf\n",
    "def plot_autocorrelations(data, feature, lags=40):\n",
    "    plt.figure(figsize=(10, 7))\n",
    "    plot_acf(data[feature], lags=lags, alpha=0.05)\n",
    "    plt.xlabel('Lags')\n",
    "    plt.ylabel('Autocorrelation')\n",
    "    plt.title(f'Autocorrelation of {feature.replace(\"_\", \" \").title()}')\n",
    "    plt.grid(True)\n",
    "    plt.show()"
   ]
  },
  {
   "cell_type": "markdown",
   "metadata": {},
   "source": [
    "## Untransformed Data"
   ]
  },
  {
   "cell_type": "code",
   "execution_count": null,
   "metadata": {},
   "outputs": [],
   "source": [
    "data.head()"
   ]
  },
  {
   "cell_type": "code",
   "execution_count": null,
   "metadata": {},
   "outputs": [],
   "source": [
    "# Example usage with first difference transformation\n",
    "plot_eda(data, 'general_index')"
   ]
  },
  {
   "cell_type": "code",
   "execution_count": null,
   "metadata": {},
   "outputs": [],
   "source": [
    "stat_tests(data,\"general_index\")"
   ]
  },
  {
   "cell_type": "code",
   "execution_count": null,
   "metadata": {},
   "outputs": [],
   "source": [
    "plot_autocorrelations(data, 'general_index')"
   ]
  },
  {
   "cell_type": "markdown",
   "metadata": {},
   "source": [
    "## Deterministic Transform"
   ]
  },
  {
   "cell_type": "code",
   "execution_count": null,
   "metadata": {},
   "outputs": [],
   "source": [
    "# deterministic transform\n",
    "\n",
    "from sklearn.linear_model import LinearRegression\n",
    "\n",
    "# fit model\n",
    "X = data[['time']].apply(lambda x: x.dt.to_period('M').apply(lambda y: y.ordinal)).values.reshape(-1, 1)\n",
    "y = data['general_index']\n",
    "\n",
    "model = LinearRegression()\n",
    "model.fit(X, y)\n",
    "\n",
    "\n",
    "# Plot the results\n",
    "plt.figure(figsize=(10, 7))\n",
    "plt.plot(data['time'], y, color=\"skyblue\", label='Actual Data')\n",
    "plt.plot(data['time'], model.predict(X), color='lightcoral', linewidth=2, label='Fitted Line')\n",
    "plt.xlabel('Time')\n",
    "plt.ylabel('General Index')\n",
    "plt.title('Linear Regression Fit')\n",
    "plt.legend()\n",
    "plt.grid(True)\n",
    "plt.show()\n",
    "\n",
    "\n",
    "# Subtract the trend from the general_index to get the detrended series\n",
    "data['general_index_transformed'] = data['general_index'] - model.predict(X)\n",
    "\n",
    "plot_eda(data, 'general_index_transformed')"
   ]
  },
  {
   "cell_type": "code",
   "execution_count": null,
   "metadata": {},
   "outputs": [],
   "source": [
    "plot_autocorrelations(data, 'general_index_transformed')"
   ]
  },
  {
   "cell_type": "markdown",
   "metadata": {},
   "source": [
    "## Stochastic transform"
   ]
  },
  {
   "cell_type": "code",
   "execution_count": null,
   "metadata": {},
   "outputs": [],
   "source": [
    "#transform the data\n",
    "data['general_index_diff'] = data['general_index'].diff()\n",
    "data = data.dropna(subset=['general_index_diff'])"
   ]
  },
  {
   "cell_type": "code",
   "execution_count": null,
   "metadata": {},
   "outputs": [],
   "source": [
    "# Example usage with first difference transformation\n",
    "plot_eda(data, 'general_index_diff')"
   ]
  },
  {
   "cell_type": "code",
   "execution_count": null,
   "metadata": {},
   "outputs": [],
   "source": [
    "stat_tests(data,\"general_index_diff\")"
   ]
  },
  {
   "cell_type": "code",
   "execution_count": null,
   "metadata": {},
   "outputs": [],
   "source": [
    "plot_autocorrelations(data, 'general_index_diff')"
   ]
  }
 ],
 "metadata": {
  "kernelspec": {
   "display_name": "Python 3",
   "language": "python",
   "name": "python3"
  },
  "language_info": {
   "codemirror_mode": {
    "name": "ipython",
    "version": 3
   },
   "file_extension": ".py",
   "mimetype": "text/x-python",
   "name": "python",
   "nbconvert_exporter": "python",
   "pygments_lexer": "ipython3",
   "version": "3.10.0"
  }
 },
 "nbformat": 4,
 "nbformat_minor": 2
}
